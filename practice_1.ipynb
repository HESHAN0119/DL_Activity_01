{
 "cells": [
  {
   "cell_type": "code",
   "execution_count": 25,
   "id": "33144136",
   "metadata": {},
   "outputs": [],
   "source": [
    "import tensorflow as tf\n",
    "import pandas as pd\n",
    "import sklearn"
   ]
  },
  {
   "cell_type": "code",
   "execution_count": 3,
   "id": "5418c405",
   "metadata": {},
   "outputs": [],
   "source": [
    "data=pd.read_csv('pima-indians-diabetes.csv')"
   ]
  },
  {
   "cell_type": "code",
   "execution_count": 4,
   "id": "bbf83130",
   "metadata": {},
   "outputs": [
    {
     "data": {
      "text/html": [
       "<div>\n",
       "<style scoped>\n",
       "    .dataframe tbody tr th:only-of-type {\n",
       "        vertical-align: middle;\n",
       "    }\n",
       "\n",
       "    .dataframe tbody tr th {\n",
       "        vertical-align: top;\n",
       "    }\n",
       "\n",
       "    .dataframe thead th {\n",
       "        text-align: right;\n",
       "    }\n",
       "</style>\n",
       "<table border=\"1\" class=\"dataframe\">\n",
       "  <thead>\n",
       "    <tr style=\"text-align: right;\">\n",
       "      <th></th>\n",
       "      <th>Pregnancies</th>\n",
       "      <th>Glucose</th>\n",
       "      <th>BloodPressure</th>\n",
       "      <th>SkinThickness</th>\n",
       "      <th>Insulin</th>\n",
       "      <th>BMI</th>\n",
       "      <th>DiabetesPedigreeFunction</th>\n",
       "      <th>Age</th>\n",
       "      <th>Outcome</th>\n",
       "    </tr>\n",
       "  </thead>\n",
       "  <tbody>\n",
       "    <tr>\n",
       "      <th>0</th>\n",
       "      <td>6</td>\n",
       "      <td>148</td>\n",
       "      <td>72</td>\n",
       "      <td>35</td>\n",
       "      <td>0</td>\n",
       "      <td>33.6</td>\n",
       "      <td>0.627</td>\n",
       "      <td>50</td>\n",
       "      <td>1</td>\n",
       "    </tr>\n",
       "    <tr>\n",
       "      <th>1</th>\n",
       "      <td>1</td>\n",
       "      <td>85</td>\n",
       "      <td>66</td>\n",
       "      <td>29</td>\n",
       "      <td>0</td>\n",
       "      <td>26.6</td>\n",
       "      <td>0.351</td>\n",
       "      <td>31</td>\n",
       "      <td>0</td>\n",
       "    </tr>\n",
       "    <tr>\n",
       "      <th>2</th>\n",
       "      <td>8</td>\n",
       "      <td>183</td>\n",
       "      <td>64</td>\n",
       "      <td>0</td>\n",
       "      <td>0</td>\n",
       "      <td>23.3</td>\n",
       "      <td>0.672</td>\n",
       "      <td>32</td>\n",
       "      <td>1</td>\n",
       "    </tr>\n",
       "    <tr>\n",
       "      <th>3</th>\n",
       "      <td>1</td>\n",
       "      <td>89</td>\n",
       "      <td>66</td>\n",
       "      <td>23</td>\n",
       "      <td>94</td>\n",
       "      <td>28.1</td>\n",
       "      <td>0.167</td>\n",
       "      <td>21</td>\n",
       "      <td>0</td>\n",
       "    </tr>\n",
       "    <tr>\n",
       "      <th>4</th>\n",
       "      <td>0</td>\n",
       "      <td>137</td>\n",
       "      <td>40</td>\n",
       "      <td>35</td>\n",
       "      <td>168</td>\n",
       "      <td>43.1</td>\n",
       "      <td>2.288</td>\n",
       "      <td>33</td>\n",
       "      <td>1</td>\n",
       "    </tr>\n",
       "  </tbody>\n",
       "</table>\n",
       "</div>"
      ],
      "text/plain": [
       "   Pregnancies  Glucose  BloodPressure  SkinThickness  Insulin   BMI  \\\n",
       "0            6      148             72             35        0  33.6   \n",
       "1            1       85             66             29        0  26.6   \n",
       "2            8      183             64              0        0  23.3   \n",
       "3            1       89             66             23       94  28.1   \n",
       "4            0      137             40             35      168  43.1   \n",
       "\n",
       "   DiabetesPedigreeFunction  Age  Outcome  \n",
       "0                     0.627   50        1  \n",
       "1                     0.351   31        0  \n",
       "2                     0.672   32        1  \n",
       "3                     0.167   21        0  \n",
       "4                     2.288   33        1  "
      ]
     },
     "execution_count": 4,
     "metadata": {},
     "output_type": "execute_result"
    }
   ],
   "source": [
    "data.head()"
   ]
  },
  {
   "cell_type": "code",
   "execution_count": 5,
   "id": "314e6388",
   "metadata": {},
   "outputs": [
    {
     "data": {
      "text/plain": [
       "Pregnancies                 0\n",
       "Glucose                     0\n",
       "BloodPressure               0\n",
       "SkinThickness               0\n",
       "Insulin                     0\n",
       "BMI                         0\n",
       "DiabetesPedigreeFunction    0\n",
       "Age                         0\n",
       "Outcome                     0\n",
       "dtype: int64"
      ]
     },
     "execution_count": 5,
     "metadata": {},
     "output_type": "execute_result"
    }
   ],
   "source": [
    "data.isnull().sum()"
   ]
  },
  {
   "cell_type": "code",
   "execution_count": 8,
   "id": "9d5c9b6e",
   "metadata": {},
   "outputs": [
    {
     "data": {
      "text/plain": [
       "Pregnancies                   int64\n",
       "Glucose                       int64\n",
       "BloodPressure                 int64\n",
       "SkinThickness                 int64\n",
       "Insulin                       int64\n",
       "BMI                         float64\n",
       "DiabetesPedigreeFunction    float64\n",
       "Age                           int64\n",
       "Outcome                       int64\n",
       "dtype: object"
      ]
     },
     "execution_count": 8,
     "metadata": {},
     "output_type": "execute_result"
    }
   ],
   "source": [
    "data.dtypes"
   ]
  },
  {
   "cell_type": "code",
   "execution_count": 14,
   "id": "93fef4da",
   "metadata": {},
   "outputs": [],
   "source": [
    "data['Pregnancies']=data['Pregnancies'].astype('float64')\n"
   ]
  },
  {
   "cell_type": "code",
   "execution_count": 12,
   "id": "33c08ebc",
   "metadata": {},
   "outputs": [
    {
     "data": {
      "text/plain": [
       "Pregnancies                 float64\n",
       "Glucose                       int64\n",
       "BloodPressure                 int64\n",
       "SkinThickness                 int64\n",
       "Insulin                       int64\n",
       "BMI                         float64\n",
       "DiabetesPedigreeFunction    float64\n",
       "Age                           int64\n",
       "Outcome                       int64\n",
       "dtype: object"
      ]
     },
     "execution_count": 12,
     "metadata": {},
     "output_type": "execute_result"
    }
   ],
   "source": [
    "data.dtypes"
   ]
  },
  {
   "cell_type": "code",
   "execution_count": 22,
   "id": "4bf904f7",
   "metadata": {},
   "outputs": [],
   "source": [
    "data.iloc[:,:]=data.iloc[:,:].astype('float64')"
   ]
  },
  {
   "cell_type": "code",
   "execution_count": 23,
   "id": "986d7c00",
   "metadata": {},
   "outputs": [
    {
     "data": {
      "text/plain": [
       "Pregnancies                 float64\n",
       "Glucose                     float64\n",
       "BloodPressure               float64\n",
       "SkinThickness               float64\n",
       "Insulin                     float64\n",
       "BMI                         float64\n",
       "DiabetesPedigreeFunction    float64\n",
       "Age                         float64\n",
       "Outcome                     float64\n",
       "dtype: object"
      ]
     },
     "execution_count": 23,
     "metadata": {},
     "output_type": "execute_result"
    }
   ],
   "source": [
    "data.dtypes"
   ]
  },
  {
   "cell_type": "code",
   "execution_count": 27,
   "id": "dba69767",
   "metadata": {},
   "outputs": [],
   "source": [
    "from sklearn.model_selection import train_test_split"
   ]
  },
  {
   "cell_type": "code",
   "execution_count": 30,
   "id": "9a057333",
   "metadata": {},
   "outputs": [],
   "source": [
    "y=data['Outcome']\n",
    "x=data.drop('Outcome',axis=1)"
   ]
  },
  {
   "cell_type": "code",
   "execution_count": 33,
   "id": "6fe8b8bf",
   "metadata": {},
   "outputs": [
    {
     "data": {
      "text/plain": [
       "0    1.0\n",
       "1    0.0\n",
       "2    1.0\n",
       "3    0.0\n",
       "4    1.0\n",
       "Name: Outcome, dtype: float64"
      ]
     },
     "execution_count": 33,
     "metadata": {},
     "output_type": "execute_result"
    }
   ],
   "source": [
    "y.head()"
   ]
  },
  {
   "cell_type": "code",
   "execution_count": 34,
   "id": "4fa601bb",
   "metadata": {},
   "outputs": [
    {
     "data": {
      "text/html": [
       "<div>\n",
       "<style scoped>\n",
       "    .dataframe tbody tr th:only-of-type {\n",
       "        vertical-align: middle;\n",
       "    }\n",
       "\n",
       "    .dataframe tbody tr th {\n",
       "        vertical-align: top;\n",
       "    }\n",
       "\n",
       "    .dataframe thead th {\n",
       "        text-align: right;\n",
       "    }\n",
       "</style>\n",
       "<table border=\"1\" class=\"dataframe\">\n",
       "  <thead>\n",
       "    <tr style=\"text-align: right;\">\n",
       "      <th></th>\n",
       "      <th>Pregnancies</th>\n",
       "      <th>Glucose</th>\n",
       "      <th>BloodPressure</th>\n",
       "      <th>SkinThickness</th>\n",
       "      <th>Insulin</th>\n",
       "      <th>BMI</th>\n",
       "      <th>DiabetesPedigreeFunction</th>\n",
       "      <th>Age</th>\n",
       "    </tr>\n",
       "  </thead>\n",
       "  <tbody>\n",
       "    <tr>\n",
       "      <th>0</th>\n",
       "      <td>6.0</td>\n",
       "      <td>148.0</td>\n",
       "      <td>72.0</td>\n",
       "      <td>35.0</td>\n",
       "      <td>0.0</td>\n",
       "      <td>33.6</td>\n",
       "      <td>0.627</td>\n",
       "      <td>50.0</td>\n",
       "    </tr>\n",
       "    <tr>\n",
       "      <th>1</th>\n",
       "      <td>1.0</td>\n",
       "      <td>85.0</td>\n",
       "      <td>66.0</td>\n",
       "      <td>29.0</td>\n",
       "      <td>0.0</td>\n",
       "      <td>26.6</td>\n",
       "      <td>0.351</td>\n",
       "      <td>31.0</td>\n",
       "    </tr>\n",
       "    <tr>\n",
       "      <th>2</th>\n",
       "      <td>8.0</td>\n",
       "      <td>183.0</td>\n",
       "      <td>64.0</td>\n",
       "      <td>0.0</td>\n",
       "      <td>0.0</td>\n",
       "      <td>23.3</td>\n",
       "      <td>0.672</td>\n",
       "      <td>32.0</td>\n",
       "    </tr>\n",
       "    <tr>\n",
       "      <th>3</th>\n",
       "      <td>1.0</td>\n",
       "      <td>89.0</td>\n",
       "      <td>66.0</td>\n",
       "      <td>23.0</td>\n",
       "      <td>94.0</td>\n",
       "      <td>28.1</td>\n",
       "      <td>0.167</td>\n",
       "      <td>21.0</td>\n",
       "    </tr>\n",
       "    <tr>\n",
       "      <th>4</th>\n",
       "      <td>0.0</td>\n",
       "      <td>137.0</td>\n",
       "      <td>40.0</td>\n",
       "      <td>35.0</td>\n",
       "      <td>168.0</td>\n",
       "      <td>43.1</td>\n",
       "      <td>2.288</td>\n",
       "      <td>33.0</td>\n",
       "    </tr>\n",
       "  </tbody>\n",
       "</table>\n",
       "</div>"
      ],
      "text/plain": [
       "   Pregnancies  Glucose  BloodPressure  SkinThickness  Insulin   BMI  \\\n",
       "0          6.0    148.0           72.0           35.0      0.0  33.6   \n",
       "1          1.0     85.0           66.0           29.0      0.0  26.6   \n",
       "2          8.0    183.0           64.0            0.0      0.0  23.3   \n",
       "3          1.0     89.0           66.0           23.0     94.0  28.1   \n",
       "4          0.0    137.0           40.0           35.0    168.0  43.1   \n",
       "\n",
       "   DiabetesPedigreeFunction   Age  \n",
       "0                     0.627  50.0  \n",
       "1                     0.351  31.0  \n",
       "2                     0.672  32.0  \n",
       "3                     0.167  21.0  \n",
       "4                     2.288  33.0  "
      ]
     },
     "execution_count": 34,
     "metadata": {},
     "output_type": "execute_result"
    }
   ],
   "source": [
    "x.head()"
   ]
  },
  {
   "cell_type": "code",
   "execution_count": 35,
   "id": "3146a1da",
   "metadata": {},
   "outputs": [],
   "source": [
    "x_train,x_test,y_train,y_test=train_test_split(x,y,test_size=0.25)"
   ]
  },
  {
   "cell_type": "code",
   "execution_count": 36,
   "id": "fe75eda1",
   "metadata": {},
   "outputs": [
    {
     "data": {
      "text/plain": [
       "(576, 8)"
      ]
     },
     "execution_count": 36,
     "metadata": {},
     "output_type": "execute_result"
    }
   ],
   "source": [
    "x_train.shape"
   ]
  },
  {
   "cell_type": "code",
   "execution_count": 37,
   "id": "f3c98251",
   "metadata": {},
   "outputs": [
    {
     "data": {
      "text/plain": [
       "(576,)"
      ]
     },
     "execution_count": 37,
     "metadata": {},
     "output_type": "execute_result"
    }
   ],
   "source": [
    "y_train.shape"
   ]
  },
  {
   "cell_type": "code",
   "execution_count": 39,
   "id": "ce7f1c5d",
   "metadata": {},
   "outputs": [
    {
     "data": {
      "text/plain": [
       "(192, 8)"
      ]
     },
     "execution_count": 39,
     "metadata": {},
     "output_type": "execute_result"
    }
   ],
   "source": [
    "x_test.shape"
   ]
  },
  {
   "cell_type": "code",
   "execution_count": 40,
   "id": "edb4cbf6",
   "metadata": {},
   "outputs": [
    {
     "data": {
      "text/plain": [
       "(192,)"
      ]
     },
     "execution_count": 40,
     "metadata": {},
     "output_type": "execute_result"
    }
   ],
   "source": [
    "y_test.shape"
   ]
  },
  {
   "cell_type": "code",
   "execution_count": 46,
   "id": "364418a3",
   "metadata": {},
   "outputs": [],
   "source": [
    "from sklearn.preprocessing import StandardScaler\n",
    "from sklearn.metrics import accuracy_score\n",
    "from tensorflow.keras.models import Sequential\n",
    "from tensorflow.keras.layers import Dense\n",
    "from tensorflow.keras.optimizers import Adam"
   ]
  },
  {
   "cell_type": "code",
   "execution_count": 45,
   "id": "dd636427",
   "metadata": {},
   "outputs": [],
   "source": [
    "model = Sequential()\n",
    "model.add(Dense(16, input_dim=x_train.shape[1], activation='relu'))\n",
    "model.add(Dense(32, activation='relu'))\n",
    "model.add(Dense(1, activation='sigmoid'))"
   ]
  },
  {
   "cell_type": "code",
   "execution_count": 55,
   "id": "1a94152a",
   "metadata": {},
   "outputs": [
    {
     "name": "stdout",
     "output_type": "stream",
     "text": [
      "Model: \"sequential_3\"\n",
      "_________________________________________________________________\n",
      " Layer (type)                Output Shape              Param #   \n",
      "=================================================================\n",
      " dense_6 (Dense)             (None, 16)                144       \n",
      "                                                                 \n",
      " dense_7 (Dense)             (None, 32)                544       \n",
      "                                                                 \n",
      " dense_8 (Dense)             (None, 1)                 33        \n",
      "                                                                 \n",
      "=================================================================\n",
      "Total params: 721\n",
      "Trainable params: 721\n",
      "Non-trainable params: 0\n",
      "_________________________________________________________________\n"
     ]
    }
   ],
   "source": [
    "model.summary()"
   ]
  },
  {
   "cell_type": "code",
   "execution_count": 47,
   "id": "627064c3",
   "metadata": {},
   "outputs": [],
   "source": [
    "model.compile(optimizer=Adam(learning_rate=0.001), loss='binary_crossentropy', metrics=['accuracy'])"
   ]
  },
  {
   "cell_type": "code",
   "execution_count": 49,
   "id": "b07a9b27",
   "metadata": {},
   "outputs": [
    {
     "name": "stdout",
     "output_type": "stream",
     "text": [
      "Epoch 1/100\n",
      "18/18 - 0s - loss: 0.5584 - accuracy: 0.7170 - 57ms/epoch - 3ms/step\n",
      "Epoch 2/100\n",
      "18/18 - 0s - loss: 0.5710 - accuracy: 0.7031 - 57ms/epoch - 3ms/step\n",
      "Epoch 3/100\n",
      "18/18 - 0s - loss: 0.5928 - accuracy: 0.7396 - 49ms/epoch - 3ms/step\n",
      "Epoch 4/100\n",
      "18/18 - 0s - loss: 0.5415 - accuracy: 0.7292 - 56ms/epoch - 3ms/step\n",
      "Epoch 5/100\n",
      "18/18 - 0s - loss: 0.5579 - accuracy: 0.7222 - 53ms/epoch - 3ms/step\n",
      "Epoch 6/100\n",
      "18/18 - 0s - loss: 0.5332 - accuracy: 0.7309 - 57ms/epoch - 3ms/step\n",
      "Epoch 7/100\n",
      "18/18 - 0s - loss: 0.5355 - accuracy: 0.7257 - 51ms/epoch - 3ms/step\n",
      "Epoch 8/100\n",
      "18/18 - 0s - loss: 0.5924 - accuracy: 0.6892 - 57ms/epoch - 3ms/step\n",
      "Epoch 9/100\n",
      "18/18 - 0s - loss: 0.5643 - accuracy: 0.7188 - 51ms/epoch - 3ms/step\n",
      "Epoch 10/100\n",
      "18/18 - 0s - loss: 0.5568 - accuracy: 0.6997 - 57ms/epoch - 3ms/step\n",
      "Epoch 11/100\n",
      "18/18 - 0s - loss: 0.5836 - accuracy: 0.7170 - 52ms/epoch - 3ms/step\n",
      "Epoch 12/100\n",
      "18/18 - 0s - loss: 0.5431 - accuracy: 0.7292 - 54ms/epoch - 3ms/step\n",
      "Epoch 13/100\n",
      "18/18 - 0s - loss: 0.5374 - accuracy: 0.7396 - 52ms/epoch - 3ms/step\n",
      "Epoch 14/100\n",
      "18/18 - 0s - loss: 0.5240 - accuracy: 0.7309 - 55ms/epoch - 3ms/step\n",
      "Epoch 15/100\n",
      "18/18 - 0s - loss: 0.5225 - accuracy: 0.7292 - 55ms/epoch - 3ms/step\n",
      "Epoch 16/100\n",
      "18/18 - 0s - loss: 0.5339 - accuracy: 0.7361 - 71ms/epoch - 4ms/step\n",
      "Epoch 17/100\n",
      "18/18 - 0s - loss: 0.5544 - accuracy: 0.7153 - 63ms/epoch - 4ms/step\n",
      "Epoch 18/100\n",
      "18/18 - 0s - loss: 0.5121 - accuracy: 0.7500 - 57ms/epoch - 3ms/step\n",
      "Epoch 19/100\n",
      "18/18 - 0s - loss: 0.5388 - accuracy: 0.7326 - 59ms/epoch - 3ms/step\n",
      "Epoch 20/100\n",
      "18/18 - 0s - loss: 0.5422 - accuracy: 0.7500 - 56ms/epoch - 3ms/step\n",
      "Epoch 21/100\n",
      "18/18 - 0s - loss: 0.5252 - accuracy: 0.7344 - 52ms/epoch - 3ms/step\n",
      "Epoch 22/100\n",
      "18/18 - 0s - loss: 0.5405 - accuracy: 0.7309 - 51ms/epoch - 3ms/step\n",
      "Epoch 23/100\n",
      "18/18 - 0s - loss: 0.5664 - accuracy: 0.7222 - 67ms/epoch - 4ms/step\n",
      "Epoch 24/100\n",
      "18/18 - 0s - loss: 0.6170 - accuracy: 0.6892 - 65ms/epoch - 4ms/step\n",
      "Epoch 25/100\n",
      "18/18 - 0s - loss: 0.5288 - accuracy: 0.7326 - 66ms/epoch - 4ms/step\n",
      "Epoch 26/100\n",
      "18/18 - 0s - loss: 0.5047 - accuracy: 0.7483 - 64ms/epoch - 4ms/step\n",
      "Epoch 27/100\n",
      "18/18 - 0s - loss: 0.5143 - accuracy: 0.7413 - 61ms/epoch - 3ms/step\n",
      "Epoch 28/100\n",
      "18/18 - 0s - loss: 0.5319 - accuracy: 0.7326 - 62ms/epoch - 3ms/step\n",
      "Epoch 29/100\n",
      "18/18 - 0s - loss: 0.5443 - accuracy: 0.7222 - 57ms/epoch - 3ms/step\n",
      "Epoch 30/100\n",
      "18/18 - 0s - loss: 0.5130 - accuracy: 0.7465 - 55ms/epoch - 3ms/step\n",
      "Epoch 31/100\n",
      "18/18 - 0s - loss: 0.5310 - accuracy: 0.7274 - 65ms/epoch - 4ms/step\n",
      "Epoch 32/100\n",
      "18/18 - 0s - loss: 0.5123 - accuracy: 0.7517 - 61ms/epoch - 3ms/step\n",
      "Epoch 33/100\n",
      "18/18 - 0s - loss: 0.5233 - accuracy: 0.7604 - 58ms/epoch - 3ms/step\n",
      "Epoch 34/100\n",
      "18/18 - 0s - loss: 0.5455 - accuracy: 0.7309 - 64ms/epoch - 4ms/step\n",
      "Epoch 35/100\n",
      "18/18 - 0s - loss: 0.5668 - accuracy: 0.7049 - 58ms/epoch - 3ms/step\n",
      "Epoch 36/100\n",
      "18/18 - 0s - loss: 0.5303 - accuracy: 0.7483 - 60ms/epoch - 3ms/step\n",
      "Epoch 37/100\n",
      "18/18 - 0s - loss: 0.5300 - accuracy: 0.7569 - 55ms/epoch - 3ms/step\n",
      "Epoch 38/100\n",
      "18/18 - 0s - loss: 0.4972 - accuracy: 0.7552 - 52ms/epoch - 3ms/step\n",
      "Epoch 39/100\n",
      "18/18 - 0s - loss: 0.5088 - accuracy: 0.7552 - 53ms/epoch - 3ms/step\n",
      "Epoch 40/100\n",
      "18/18 - 0s - loss: 0.5259 - accuracy: 0.7448 - 51ms/epoch - 3ms/step\n",
      "Epoch 41/100\n",
      "18/18 - 0s - loss: 0.5472 - accuracy: 0.7448 - 54ms/epoch - 3ms/step\n",
      "Epoch 42/100\n",
      "18/18 - 0s - loss: 0.5149 - accuracy: 0.7535 - 50ms/epoch - 3ms/step\n",
      "Epoch 43/100\n",
      "18/18 - 0s - loss: 0.5219 - accuracy: 0.7500 - 46ms/epoch - 3ms/step\n",
      "Epoch 44/100\n",
      "18/18 - 0s - loss: 0.5292 - accuracy: 0.7309 - 48ms/epoch - 3ms/step\n",
      "Epoch 45/100\n",
      "18/18 - 0s - loss: 0.5066 - accuracy: 0.7569 - 54ms/epoch - 3ms/step\n",
      "Epoch 46/100\n",
      "18/18 - 0s - loss: 0.5245 - accuracy: 0.7413 - 58ms/epoch - 3ms/step\n",
      "Epoch 47/100\n",
      "18/18 - 0s - loss: 0.5270 - accuracy: 0.7448 - 61ms/epoch - 3ms/step\n",
      "Epoch 48/100\n",
      "18/18 - 0s - loss: 0.5063 - accuracy: 0.7552 - 63ms/epoch - 4ms/step\n",
      "Epoch 49/100\n",
      "18/18 - 0s - loss: 0.5208 - accuracy: 0.7535 - 59ms/epoch - 3ms/step\n",
      "Epoch 50/100\n",
      "18/18 - 0s - loss: 0.5133 - accuracy: 0.7535 - 64ms/epoch - 4ms/step\n",
      "Epoch 51/100\n",
      "18/18 - 0s - loss: 0.4973 - accuracy: 0.7604 - 60ms/epoch - 3ms/step\n",
      "Epoch 52/100\n",
      "18/18 - 0s - loss: 0.5196 - accuracy: 0.7500 - 62ms/epoch - 3ms/step\n",
      "Epoch 53/100\n",
      "18/18 - 0s - loss: 0.4986 - accuracy: 0.7587 - 63ms/epoch - 3ms/step\n",
      "Epoch 54/100\n",
      "18/18 - 0s - loss: 0.5039 - accuracy: 0.7413 - 56ms/epoch - 3ms/step\n",
      "Epoch 55/100\n",
      "18/18 - 0s - loss: 0.5297 - accuracy: 0.7535 - 56ms/epoch - 3ms/step\n",
      "Epoch 56/100\n",
      "18/18 - 0s - loss: 0.5211 - accuracy: 0.7448 - 51ms/epoch - 3ms/step\n",
      "Epoch 57/100\n",
      "18/18 - 0s - loss: 0.5203 - accuracy: 0.7622 - 56ms/epoch - 3ms/step\n",
      "Epoch 58/100\n",
      "18/18 - 0s - loss: 0.5487 - accuracy: 0.7361 - 53ms/epoch - 3ms/step\n",
      "Epoch 59/100\n",
      "18/18 - 0s - loss: 0.4942 - accuracy: 0.7517 - 50ms/epoch - 3ms/step\n",
      "Epoch 60/100\n",
      "18/18 - 0s - loss: 0.5037 - accuracy: 0.7396 - 49ms/epoch - 3ms/step\n",
      "Epoch 61/100\n",
      "18/18 - 0s - loss: 0.4883 - accuracy: 0.7448 - 52ms/epoch - 3ms/step\n",
      "Epoch 62/100\n",
      "18/18 - 0s - loss: 0.4987 - accuracy: 0.7569 - 48ms/epoch - 3ms/step\n",
      "Epoch 63/100\n",
      "18/18 - 0s - loss: 0.4916 - accuracy: 0.7552 - 50ms/epoch - 3ms/step\n",
      "Epoch 64/100\n",
      "18/18 - 0s - loss: 0.5120 - accuracy: 0.7465 - 49ms/epoch - 3ms/step\n",
      "Epoch 65/100\n",
      "18/18 - 0s - loss: 0.5188 - accuracy: 0.7483 - 51ms/epoch - 3ms/step\n",
      "Epoch 66/100\n",
      "18/18 - 0s - loss: 0.5446 - accuracy: 0.7465 - 54ms/epoch - 3ms/step\n",
      "Epoch 67/100\n",
      "18/18 - 0s - loss: 0.5412 - accuracy: 0.7604 - 52ms/epoch - 3ms/step\n",
      "Epoch 68/100\n",
      "18/18 - 0s - loss: 0.5468 - accuracy: 0.7413 - 49ms/epoch - 3ms/step\n",
      "Epoch 69/100\n",
      "18/18 - 0s - loss: 0.5025 - accuracy: 0.7483 - 55ms/epoch - 3ms/step\n",
      "Epoch 70/100\n",
      "18/18 - 0s - loss: 0.5109 - accuracy: 0.7413 - 48ms/epoch - 3ms/step\n",
      "Epoch 71/100\n",
      "18/18 - 0s - loss: 0.5042 - accuracy: 0.7569 - 47ms/epoch - 3ms/step\n",
      "Epoch 72/100\n",
      "18/18 - 0s - loss: 0.4882 - accuracy: 0.7604 - 52ms/epoch - 3ms/step\n",
      "Epoch 73/100\n",
      "18/18 - 0s - loss: 0.5092 - accuracy: 0.7535 - 50ms/epoch - 3ms/step\n",
      "Epoch 74/100\n",
      "18/18 - 0s - loss: 0.5545 - accuracy: 0.7101 - 52ms/epoch - 3ms/step\n",
      "Epoch 75/100\n",
      "18/18 - 0s - loss: 0.4887 - accuracy: 0.7535 - 56ms/epoch - 3ms/step\n",
      "Epoch 76/100\n",
      "18/18 - 0s - loss: 0.5409 - accuracy: 0.7448 - 49ms/epoch - 3ms/step\n",
      "Epoch 77/100\n",
      "18/18 - 0s - loss: 0.5674 - accuracy: 0.7257 - 54ms/epoch - 3ms/step\n",
      "Epoch 78/100\n",
      "18/18 - 0s - loss: 0.5008 - accuracy: 0.7552 - 48ms/epoch - 3ms/step\n",
      "Epoch 79/100\n",
      "18/18 - 0s - loss: 0.4855 - accuracy: 0.7622 - 49ms/epoch - 3ms/step\n",
      "Epoch 80/100\n",
      "18/18 - 0s - loss: 0.4953 - accuracy: 0.7517 - 50ms/epoch - 3ms/step\n",
      "Epoch 81/100\n",
      "18/18 - 0s - loss: 0.4994 - accuracy: 0.7639 - 53ms/epoch - 3ms/step\n",
      "Epoch 82/100\n",
      "18/18 - 0s - loss: 0.4863 - accuracy: 0.7656 - 54ms/epoch - 3ms/step\n",
      "Epoch 83/100\n",
      "18/18 - 0s - loss: 0.4884 - accuracy: 0.7743 - 58ms/epoch - 3ms/step\n",
      "Epoch 84/100\n",
      "18/18 - 0s - loss: 0.4973 - accuracy: 0.7622 - 55ms/epoch - 3ms/step\n",
      "Epoch 85/100\n",
      "18/18 - 0s - loss: 0.4906 - accuracy: 0.7656 - 57ms/epoch - 3ms/step\n",
      "Epoch 86/100\n",
      "18/18 - 0s - loss: 0.4853 - accuracy: 0.7656 - 61ms/epoch - 3ms/step\n",
      "Epoch 87/100\n",
      "18/18 - 0s - loss: 0.5527 - accuracy: 0.7361 - 55ms/epoch - 3ms/step\n",
      "Epoch 88/100\n",
      "18/18 - 0s - loss: 0.5104 - accuracy: 0.7413 - 56ms/epoch - 3ms/step\n",
      "Epoch 89/100\n",
      "18/18 - 0s - loss: 0.4780 - accuracy: 0.7760 - 54ms/epoch - 3ms/step\n",
      "Epoch 90/100\n",
      "18/18 - 0s - loss: 0.4956 - accuracy: 0.7431 - 66ms/epoch - 4ms/step\n",
      "Epoch 91/100\n",
      "18/18 - 0s - loss: 0.4844 - accuracy: 0.7760 - 60ms/epoch - 3ms/step\n",
      "Epoch 92/100\n",
      "18/18 - 0s - loss: 0.4898 - accuracy: 0.7569 - 55ms/epoch - 3ms/step\n",
      "Epoch 93/100\n",
      "18/18 - 0s - loss: 0.5071 - accuracy: 0.7535 - 56ms/epoch - 3ms/step\n",
      "Epoch 94/100\n",
      "18/18 - 0s - loss: 0.4994 - accuracy: 0.7569 - 58ms/epoch - 3ms/step\n",
      "Epoch 95/100\n",
      "18/18 - 0s - loss: 0.5037 - accuracy: 0.7483 - 62ms/epoch - 3ms/step\n",
      "Epoch 96/100\n",
      "18/18 - 0s - loss: 0.5014 - accuracy: 0.7604 - 88ms/epoch - 5ms/step\n",
      "Epoch 97/100\n",
      "18/18 - 0s - loss: 0.4808 - accuracy: 0.7691 - 61ms/epoch - 3ms/step\n",
      "Epoch 98/100\n",
      "18/18 - 0s - loss: 0.4674 - accuracy: 0.7778 - 55ms/epoch - 3ms/step\n",
      "Epoch 99/100\n",
      "18/18 - 0s - loss: 0.4764 - accuracy: 0.7778 - 59ms/epoch - 3ms/step\n",
      "Epoch 100/100\n",
      "18/18 - 0s - loss: 0.5001 - accuracy: 0.7483 - 56ms/epoch - 3ms/step\n"
     ]
    },
    {
     "data": {
      "text/plain": [
       "<keras.callbacks.History at 0x241c715b190>"
      ]
     },
     "execution_count": 49,
     "metadata": {},
     "output_type": "execute_result"
    }
   ],
   "source": [
    "model.fit(x_train, y_train, epochs=100, batch_size=32, verbose=2)"
   ]
  },
  {
   "cell_type": "code",
   "execution_count": 51,
   "id": "84287e0f",
   "metadata": {},
   "outputs": [],
   "source": [
    "y_pred = model.predict(x_test)"
   ]
  },
  {
   "cell_type": "code",
   "execution_count": null,
   "id": "7754ced9",
   "metadata": {},
   "outputs": [],
   "source": []
  },
  {
   "cell_type": "code",
   "execution_count": 57,
   "id": "bc959b21",
   "metadata": {},
   "outputs": [
    {
     "data": {
      "text/plain": [
       "array([[0.],\n",
       "       [0.],\n",
       "       [1.],\n",
       "       [0.],\n",
       "       [0.],\n",
       "       [0.],\n",
       "       [1.],\n",
       "       [1.],\n",
       "       [0.],\n",
       "       [0.],\n",
       "       [1.],\n",
       "       [0.],\n",
       "       [1.],\n",
       "       [1.],\n",
       "       [1.],\n",
       "       [0.],\n",
       "       [0.],\n",
       "       [0.],\n",
       "       [1.],\n",
       "       [0.],\n",
       "       [0.],\n",
       "       [1.],\n",
       "       [1.],\n",
       "       [0.],\n",
       "       [0.],\n",
       "       [1.],\n",
       "       [0.],\n",
       "       [0.],\n",
       "       [1.],\n",
       "       [0.],\n",
       "       [1.],\n",
       "       [0.],\n",
       "       [1.],\n",
       "       [1.],\n",
       "       [1.],\n",
       "       [0.],\n",
       "       [0.],\n",
       "       [0.],\n",
       "       [0.],\n",
       "       [0.],\n",
       "       [0.],\n",
       "       [0.],\n",
       "       [0.],\n",
       "       [0.],\n",
       "       [0.],\n",
       "       [0.],\n",
       "       [0.],\n",
       "       [0.],\n",
       "       [0.],\n",
       "       [0.],\n",
       "       [1.],\n",
       "       [1.],\n",
       "       [0.],\n",
       "       [1.],\n",
       "       [0.],\n",
       "       [0.],\n",
       "       [1.],\n",
       "       [1.],\n",
       "       [0.],\n",
       "       [0.],\n",
       "       [0.],\n",
       "       [0.],\n",
       "       [1.],\n",
       "       [1.],\n",
       "       [1.],\n",
       "       [0.],\n",
       "       [0.],\n",
       "       [0.],\n",
       "       [0.],\n",
       "       [0.],\n",
       "       [1.],\n",
       "       [1.],\n",
       "       [0.],\n",
       "       [0.],\n",
       "       [0.],\n",
       "       [0.],\n",
       "       [0.],\n",
       "       [0.],\n",
       "       [0.],\n",
       "       [0.],\n",
       "       [1.],\n",
       "       [1.],\n",
       "       [0.],\n",
       "       [0.],\n",
       "       [0.],\n",
       "       [1.],\n",
       "       [1.],\n",
       "       [1.],\n",
       "       [0.],\n",
       "       [0.],\n",
       "       [0.],\n",
       "       [1.],\n",
       "       [0.],\n",
       "       [0.],\n",
       "       [1.],\n",
       "       [0.],\n",
       "       [0.],\n",
       "       [1.],\n",
       "       [0.],\n",
       "       [0.],\n",
       "       [0.],\n",
       "       [0.],\n",
       "       [0.],\n",
       "       [0.],\n",
       "       [0.],\n",
       "       [0.],\n",
       "       [0.],\n",
       "       [0.],\n",
       "       [0.],\n",
       "       [0.],\n",
       "       [1.],\n",
       "       [1.],\n",
       "       [0.],\n",
       "       [0.],\n",
       "       [0.],\n",
       "       [1.],\n",
       "       [0.],\n",
       "       [1.],\n",
       "       [0.],\n",
       "       [0.],\n",
       "       [0.],\n",
       "       [1.],\n",
       "       [0.],\n",
       "       [0.],\n",
       "       [0.],\n",
       "       [0.],\n",
       "       [1.],\n",
       "       [1.],\n",
       "       [0.],\n",
       "       [1.],\n",
       "       [1.],\n",
       "       [1.],\n",
       "       [0.],\n",
       "       [1.],\n",
       "       [1.],\n",
       "       [1.],\n",
       "       [1.],\n",
       "       [1.],\n",
       "       [0.],\n",
       "       [1.],\n",
       "       [1.],\n",
       "       [0.],\n",
       "       [1.],\n",
       "       [0.],\n",
       "       [0.],\n",
       "       [0.],\n",
       "       [1.],\n",
       "       [0.],\n",
       "       [0.],\n",
       "       [1.],\n",
       "       [0.],\n",
       "       [1.],\n",
       "       [1.],\n",
       "       [1.],\n",
       "       [0.],\n",
       "       [0.],\n",
       "       [1.],\n",
       "       [1.],\n",
       "       [0.],\n",
       "       [1.],\n",
       "       [1.],\n",
       "       [1.],\n",
       "       [0.],\n",
       "       [0.],\n",
       "       [0.],\n",
       "       [1.],\n",
       "       [1.],\n",
       "       [0.],\n",
       "       [0.],\n",
       "       [0.],\n",
       "       [0.],\n",
       "       [0.],\n",
       "       [0.],\n",
       "       [0.],\n",
       "       [0.],\n",
       "       [0.],\n",
       "       [0.],\n",
       "       [0.],\n",
       "       [0.],\n",
       "       [0.],\n",
       "       [0.],\n",
       "       [0.],\n",
       "       [0.],\n",
       "       [1.],\n",
       "       [0.],\n",
       "       [0.],\n",
       "       [0.],\n",
       "       [0.],\n",
       "       [1.],\n",
       "       [0.],\n",
       "       [0.],\n",
       "       [0.]], dtype=float32)"
      ]
     },
     "execution_count": 57,
     "metadata": {},
     "output_type": "execute_result"
    }
   ],
   "source": [
    "import numpy as np\n",
    "y_pred_round=np.round_(y_pred,decimals=0)\n",
    "y_pred_round"
   ]
  },
  {
   "cell_type": "code",
   "execution_count": 54,
   "id": "25f0fe7a",
   "metadata": {},
   "outputs": [
    {
     "data": {
      "text/plain": [
       "762    0.0\n",
       "98     0.0\n",
       "662    1.0\n",
       "418    0.0\n",
       "109    1.0\n",
       "      ... \n",
       "718    0.0\n",
       "172    0.0\n",
       "520    0.0\n",
       "543    0.0\n",
       "106    0.0\n",
       "Name: Outcome, Length: 192, dtype: float64"
      ]
     },
     "execution_count": 54,
     "metadata": {},
     "output_type": "execute_result"
    }
   ],
   "source": [
    "y_test"
   ]
  },
  {
   "cell_type": "code",
   "execution_count": 59,
   "id": "4dea6d24",
   "metadata": {},
   "outputs": [
    {
     "data": {
      "text/plain": [
       "0.7135416666666666"
      ]
     },
     "execution_count": 59,
     "metadata": {},
     "output_type": "execute_result"
    }
   ],
   "source": [
    "accuracy = accuracy_score(y_test, y_pred_round)\n",
    "accuracy"
   ]
  },
  {
   "cell_type": "code",
   "execution_count": null,
   "id": "f3dcab11",
   "metadata": {},
   "outputs": [],
   "source": []
  }
 ],
 "metadata": {
  "kernelspec": {
   "display_name": "Python 3 (ipykernel)",
   "language": "python",
   "name": "python3"
  },
  "language_info": {
   "codemirror_mode": {
    "name": "ipython",
    "version": 3
   },
   "file_extension": ".py",
   "mimetype": "text/x-python",
   "name": "python",
   "nbconvert_exporter": "python",
   "pygments_lexer": "ipython3",
   "version": "3.9.13"
  }
 },
 "nbformat": 4,
 "nbformat_minor": 5
}
